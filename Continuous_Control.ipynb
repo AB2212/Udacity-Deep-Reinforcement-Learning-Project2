{
 "cells": [
  {
   "cell_type": "markdown",
   "metadata": {},
   "source": [
    "# Continuous Control\n",
    "\n",
    "---\n",
    "\n",
    "### Start the Environment\n"
   ]
  },
  {
   "cell_type": "code",
   "execution_count": null,
   "metadata": {},
   "outputs": [],
   "source": [
    "#!pip -q install ./python"
   ]
  },
  {
   "cell_type": "markdown",
   "metadata": {},
   "source": [
    " Please select one of the two options below for loading the environment."
   ]
  },
  {
   "cell_type": "code",
   "execution_count": null,
   "metadata": {
    "scrolled": true
   },
   "outputs": [],
   "source": [
    "from unityagents import UnityEnvironment\n",
    "import numpy as np\n",
    "\n",
    "# select this option to load version 1 (with a single agent) of the environment\n",
    "#env = UnityEnvironment(file_name='/data/Reacher_One_Linux_NoVis/Reacher_One_Linux_NoVis.x86_64')\n",
    "\n",
    "# select this option to load version 2 (with 20 agents) of the environment\n",
    "env = UnityEnvironment(file_name='/data/Reacher_Linux_NoVis/Reacher.x86_64')"
   ]
  },
  {
   "cell_type": "markdown",
   "metadata": {},
   "source": [
    "Environments contain **_brains_** which are responsible for deciding the actions of their associated agents. Here we check for the first brain available, and set it as the default brain we will be controlling from Python."
   ]
  },
  {
   "cell_type": "code",
   "execution_count": null,
   "metadata": {},
   "outputs": [],
   "source": [
    "# get the default brain\n",
    "brain_name = env.brain_names[0]\n",
    "brain = env.brains[brain_name]"
   ]
  },
  {
   "cell_type": "markdown",
   "metadata": {},
   "source": [
    "### Let's examine the State and Action Spaces\n",
    "\n",
    "Run the code cell below to print some information about the environment."
   ]
  },
  {
   "cell_type": "code",
   "execution_count": null,
   "metadata": {
    "scrolled": true
   },
   "outputs": [],
   "source": [
    "# reset the environment\n",
    "env_info = env.reset(train_mode=True)[brain_name]\n",
    "\n",
    "# number of agents\n",
    "num_agents = len(env_info.agents)\n",
    "print('Number of agents:', num_agents)\n",
    "\n",
    "# size of each action\n",
    "action_size = brain.vector_action_space_size\n",
    "print('Size of each action:', action_size)\n",
    "\n",
    "# examine the state space \n",
    "states = env_info.vector_observations\n",
    "state_size = states.shape[1]\n",
    "print('There are {} agents. Each observes a state with length: {}'.format(states.shape[0], state_size))\n",
    "print('The state for the first agent looks like:', states[0])"
   ]
  },
  {
   "cell_type": "markdown",
   "metadata": {},
   "source": [
    "### Taking  Random Actions in the Environment\n",
    "\n",
    "In the next code cell, you will learn how to use the Python API to control the agent and receive feedback from the environment.\n",
    "\n",
    "Note that **in this coding environment, you will not be able to watch the agents while they are training**, and you should set `train_mode=True` to restart the environment."
   ]
  },
  {
   "cell_type": "code",
   "execution_count": null,
   "metadata": {},
   "outputs": [],
   "source": [
    "env_info = env.reset(train_mode=True)[brain_name]      # reset the environment    \n",
    "states = env_info.vector_observations                  # get the current state (for each agent)\n",
    "scores = np.zeros(num_agents)                          # initialize the score (for each agent)\n",
    "while True:\n",
    "    actions = np.random.randn(num_agents, action_size) # select an action (for each agent)\n",
    "    actions = np.clip(actions, -1, 1)                  # all actions between -1 and 1\n",
    "    env_info = env.step(actions)[brain_name]           # send all actions to tne environment\n",
    "    next_states = env_info.vector_observations         # get next state (for each agent)\n",
    "    rewards = env_info.rewards                         # get reward (for each agent)\n",
    "    dones = env_info.local_done                        # see if episode finished\n",
    "    scores += env_info.rewards                         # update the score (for each agent)\n",
    "    states = next_states                               # roll over states to next time step\n",
    "    if np.any(dones):                                  # exit loop if episode finished\n",
    "        break\n",
    "print('Total score (averaged over agents) this episode: {}'.format(np.mean(scores)))"
   ]
  },
  {
   "cell_type": "markdown",
   "metadata": {},
   "source": [
    "When finished, you can close the environment."
   ]
  },
  {
   "cell_type": "markdown",
   "metadata": {},
   "source": [
    "### Training Agent"
   ]
  },
  {
   "cell_type": "code",
   "execution_count": null,
   "metadata": {},
   "outputs": [],
   "source": [
    "import numpy as  np\n",
    "#Setting random seed for reproducibility\n",
    "np.random.seed(0) \n",
    "import sys\n",
    "import random\n",
    "#Setting random seed\n",
    "random.seed(0)\n",
    "\n",
    "import torch\n",
    "#Setting random seed\n",
    "torch.manual_seed(0)\n",
    "import torch.nn as nn\n",
    "import torch.optim as optim\n",
    "import torch.nn.functional as F\n",
    "\n",
    "\n",
    "from agent import Agent\n",
    "from noise_generator import OUNoise\n",
    "from config_file import Config\n",
    "from utils import plot_reward\n",
    "\n",
    "%load_ext autoreload\n",
    "%autoreload 2"
   ]
  },
  {
   "cell_type": "code",
   "execution_count": null,
   "metadata": {},
   "outputs": [],
   "source": [
    "# Loading the config\n",
    "config = Config()\n",
    "config.display()"
   ]
  },
  {
   "cell_type": "code",
   "execution_count": null,
   "metadata": {},
   "outputs": [],
   "source": [
    "NUM_NEURONS_LAYER1 = config.NUM_NEURONS_LAYER1  # Number of neurons in layer1\n",
    "NUM_NEURONS_LAYER2 = config.NUM_NEURONS_LAYER2  # Number of neurons in layer2\n",
    "\n",
    "# Initializing our agent\n",
    "agent = Agent(state_size,\n",
    "              action_size,\n",
    "              [NUM_NEURONS_LAYER1,\n",
    "               NUM_NEURONS_LAYER1])\n",
    "\n",
    "# Initializing Ornstein-Uhlenbeck process noise\n",
    "noise  = OUNoise(action_size)"
   ]
  },
  {
   "cell_type": "code",
   "execution_count": null,
   "metadata": {},
   "outputs": [],
   "source": [
    "episodes = 1000                                        # Max no. of episodes   \n",
    "scores = []                                            # list containing scores from each episode\n",
    "scores_window = deque(maxlen=100)\n",
    "\n",
    "for i_episode in range(1,episodes+1):\n",
    "    \n",
    "    env_info = env.reset(train_mode=True)[brain_name]  # reset the environment\n",
    "    state = env_info.vector_observations               # get the current state\n",
    "    score = np.zeros(num_agents)                       # scores for each agent\n",
    "    \n",
    "    noise.reset()\n",
    "    \n",
    "    step = 0\n",
    "\n",
    "    while True:\n",
    "        \n",
    "        action = agent.act(state)                      # select an action\n",
    "        action = noise.get_action(action, step)        # add noise to action for exploration\n",
    "        \n",
    "        env_info = env.step(action)[brain_name]        # send the action to the environment\n",
    "        \n",
    "        next_state = env_info.vector_observations      # get the next state\n",
    "        reward = env_info.rewards                      # get the reward\n",
    "        done = env_info.local_done                     # see if episode has finished\n",
    "        agent.step(state, action, reward,              # Update Agent's attributes(Replay buffer/parameters)\n",
    "                   next_state, done)\n",
    "        score += reward                                # update the score\n",
    "        state = next_state                             # roll over the state to next time step\n",
    "        \n",
    "        step += 1                                      \n",
    "         \n",
    "        if np.any(done):                               # exit loop if episode finished is by any agent\n",
    "            break\n",
    "        \n",
    "    scores_window.append(np.mean(score))               # save most recent score\n",
    "    scores.append(np.mean(score))                      # save most recent score\n",
    "    \n",
    "    sys.stdout.flush()\n",
    "    print('\\rEpisode {}\\tAverage Score: {:.2f}'.format(i_episode, np.mean(scores_window)), end=\"\")\n",
    "    \n",
    "    \n",
    "    if np.mean(scores_window) >= 30:\n",
    "        \n",
    "        torch.save({'actor_main_network_state_dict' : agent.actor_main.state_dict(),\n",
    "                    'actor_target_network_state_dict' : agent.actor_target.state_dict(),\n",
    "                    'critic_main_network_state_dict' : agent.critic_main.state_dict(),\n",
    "                    'critic_target_network_state_dict' : agent.critic_target.state_dict(),\n",
    "                    'optimizer_actor_state_dict' : agent.optimizer_actor.state_dict(),\n",
    "                    'optimizer_critic_state_dict' : agent.optimizer_actor.state_dict()},\n",
    "                    'agent_state_dict.pt')\n",
    "        \n",
    "        if np.mean(scores_window) >= 32:\n",
    "            \n",
    "            print(\"\\n Problem Solved!\")\n",
    "            \n",
    "            break\n",
    "    \n",
    "print(\"Score: {}\".format(score))\n"
   ]
  },
  {
   "cell_type": "code",
   "execution_count": null,
   "metadata": {},
   "outputs": [],
   "source": [
    "#Plotting Rewards\n",
    "plot_reward(scores)"
   ]
  },
  {
   "cell_type": "markdown",
   "metadata": {},
   "source": [
    "### Testing the agent"
   ]
  },
  {
   "cell_type": "code",
   "execution_count": null,
   "metadata": {
    "scrolled": true
   },
   "outputs": [],
   "source": [
    "# Loading saved parameters to test agent over 100 trials\n",
    "\n",
    "checkpoint = torch.load('agent_state_dict.pt', map_location= \"cpu\")\n",
    "agent.actor_main.load_state_dict(checkpoint['actor_main_network_state_dict'])\n",
    "agent.critic_main.load_state_dict(checkpoint['critic_main_network_state_dict'])\n",
    "\n",
    "def test(num_episodes=100):\n",
    "    \n",
    "    all_scores = []\n",
    "\n",
    "    from tqdm import tqdm\n",
    "    \n",
    "    for ep in tqdm(range(num_episodes)):\n",
    "\n",
    "        env_info = env.reset(train_mode=True)[brain_name]      # reset the environment    \n",
    "        states = env_info.vector_observations                  # get the current state (for each agent)\n",
    "        scores = np.zeros(num_agents)                          # initialize the score (for each agent)\n",
    "        while True:\n",
    "            actions = agent.act(states)                        # all actions between -1 and 1\n",
    "            env_info = env.step(actions)[brain_name]           # send all actions to tne environment\n",
    "            next_states = env_info.vector_observations         # get next state (for each agent)\n",
    "            rewards = env_info.rewards                         # get reward (for each agent)\n",
    "            dones = env_info.local_done                        # see if episode finished\n",
    "            scores += env_info.rewards                         # update the score (for each agent)\n",
    "            states = next_states                               # roll over states to next time step\n",
    "            if np.any(dones):                                  # exit loop if episode finished\n",
    "                break\n",
    "\n",
    "    all_scores.append(np.mean(scores))\n",
    "    print('Total score (averaged over agents) this episode: {}'.format(np.mean(all_scores)))\n",
    "    \n",
    "test(num_episodes = 100)"
   ]
  }
 ],
 "metadata": {
  "kernelspec": {
   "display_name": "Python 3",
   "language": "python",
   "name": "python3"
  },
  "language_info": {
   "codemirror_mode": {
    "name": "ipython",
    "version": 3
   },
   "file_extension": ".py",
   "mimetype": "text/x-python",
   "name": "python",
   "nbconvert_exporter": "python",
   "pygments_lexer": "ipython3",
   "version": "3.6.3"
  }
 },
 "nbformat": 4,
 "nbformat_minor": 2
}
